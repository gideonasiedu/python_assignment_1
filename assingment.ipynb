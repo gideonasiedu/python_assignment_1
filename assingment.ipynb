{
 "cells": [
  {
   "cell_type": "code",
   "execution_count": 16,
   "id": "3ce9ddea-b1bd-4ce5-a915-32759dae5831",
   "metadata": {
    "tags": []
   },
   "outputs": [
    {
     "name": "stdin",
     "output_type": "stream",
     "text": [
      "enter number 23\n",
      "enter number 54\n"
     ]
    },
    {
     "name": "stdout",
     "output_type": "stream",
     "text": [
      "you have 23 cookies 54 that's a delicious total of 77 cookies\n"
     ]
    }
   ],
   "source": [
    "x = int(input(\"enter number\"))\n",
    "y = int(input(\"enter number\"))\n",
    "result = x + y\n",
    "print(\"you have\" , x , \"cookies\" ,  y , \"that's a delicious total of\" , result ,\"cookies\")"
   ]
  },
  {
   "cell_type": "code",
   "execution_count": 17,
   "id": "722a8e0b-97a7-4588-b929-83830cfb83eb",
   "metadata": {
    "tags": []
   },
   "outputs": [
    {
     "name": "stdin",
     "output_type": "stream",
     "text": [
      "enter your name kofi\n"
     ]
    },
    {
     "name": "stdout",
     "output_type": "stream",
     "text": [
      "happy birthday tokofihappy birthday to you! May your day be filled with laughter and cake, too!\n"
     ]
    }
   ],
   "source": [
    "nomencrature = input(\"enter your name\")\n",
    "print(\"happy birthday to\" + nomencrature+ \"happy birthday to you! May your day be filled with laughter and cake, too!\")"
   ]
  },
  {
   "cell_type": "code",
   "execution_count": 18,
   "id": "b9f6e925-7dfe-47b2-9c3e-60d55a7284f9",
   "metadata": {
    "tags": []
   },
   "outputs": [
    {
     "name": "stdin",
     "output_type": "stream",
     "text": [
      "temperature in celsius 34.69\n"
     ]
    },
    {
     "name": "stdout",
     "output_type": "stream",
     "text": [
      "77 F\n"
     ]
    }
   ],
   "source": [
    "y = float(input(\"temperature in celsius\"))\n",
    "x = 1.8\n",
    "a = 32\n",
    "results = (y * x) + a\n",
    "print(result, \"F\")"
   ]
  },
  {
   "cell_type": "code",
   "execution_count": 20,
   "id": "4ab3e67a-aa06-4c9b-941d-c92f0ecc3e0b",
   "metadata": {
    "tags": []
   },
   "outputs": [
    {
     "name": "stdin",
     "output_type": "stream",
     "text": [
      "enter your name Emma\n",
      "enter your age 34\n"
     ]
    },
    {
     "name": "stdout",
     "output_type": "stream",
     "text": [
      "Hello Emma welcome! You seem a fantastic person at  34 years old\n"
     ]
    }
   ],
   "source": [
    "name = input(\"enter your name\")\n",
    "age = int(input(\"enter your age\"))\n",
    "print(\"Hello \" + name + \" welcome! You seem a fantastic person at \" , age , \"years old\")"
   ]
  },
  {
   "cell_type": "code",
   "execution_count": 22,
   "id": "9c6b566b-8453-4b79-ae9c-ffe84c5d7e4b",
   "metadata": {
    "tags": []
   },
   "outputs": [
    {
     "name": "stdin",
     "output_type": "stream",
     "text": [
      "enter  price of item 6\n"
     ]
    },
    {
     "name": "stdout",
     "output_type": "stream",
     "text": [
      "price before tax is  6.0\n",
      "price after tax is  6.42\n"
     ]
    }
   ],
   "source": [
    "PriceofItem = float(input(\"enter  price of item\"))\n",
    "print(\"price before tax is \", PriceofItem)\n",
    "tax = 0.07\n",
    "newprice = (PriceofItem * 0.07) + PriceofItem\n",
    "print(\"price after tax is \" , newprice)"
   ]
  },
  {
   "cell_type": "code",
   "execution_count": 25,
   "id": "d0296326-daf3-4558-8c1a-36c800817884",
   "metadata": {
    "tags": []
   },
   "outputs": [
    {
     "name": "stdin",
     "output_type": "stream",
     "text": [
      "enter first name mango\n",
      "enter surname pineapples\n"
     ]
    },
    {
     "name": "stdout",
     "output_type": "stream",
     "text": [
      "mixing mango juice and pineapples create the Fizzy Frenzy potion\n"
     ]
    }
   ],
   "source": [
    "fName = input(\"enter first name\")\n",
    "sName = input(\"enter surname\")\n",
    "print(\"mixing \" + fName + \" juice and \" + sName + \" create the Fizzy Frenzy potion\")"
   ]
  },
  {
   "cell_type": "code",
   "execution_count": null,
   "id": "ce7eeed7-11a4-466e-aac9-b08a1b775d22",
   "metadata": {},
   "outputs": [],
   "source": []
  }
 ],
 "metadata": {
  "kernelspec": {
   "display_name": "Python 3 (ipykernel)",
   "language": "python",
   "name": "python3"
  },
  "language_info": {
   "codemirror_mode": {
    "name": "ipython",
    "version": 3
   },
   "file_extension": ".py",
   "mimetype": "text/x-python",
   "name": "python",
   "nbconvert_exporter": "python",
   "pygments_lexer": "ipython3",
   "version": "3.11.5"
  }
 },
 "nbformat": 4,
 "nbformat_minor": 5
}
